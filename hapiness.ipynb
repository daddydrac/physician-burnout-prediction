{
 "cells": [
  {
   "cell_type": "code",
   "execution_count": null,
   "metadata": {},
   "outputs": [],
   "source": [
    "def hapiness(_idx, _data):\n",
    "\n",
    "    _scope = {\n",
    "        \"happy\": None\n",
    "       }\n",
    "    # happiness outside work\n",
    "    \n",
    "     # 1: happy 78% of a population of 8000=2400\n",
    "    if _idx in range(0, 6240, 1):\n",
    "        _scope[\"happy\"]= 1\n",
    "\n",
    "        \n",
    "    # 2: unhappy : 17% of a population of 8000=1360\n",
    "    if _idx in range(6241, 7601, 1):\n",
    "        _scope[\"happy\"]= 2\n",
    "    # 3: unspecified : \n",
    "    else:\n",
    "        _scope[\"happy\"]= 3\n",
    "    result = _.assign(_data[_idx], {\"happy\": _scope[\"happy\"]})\n",
    "    return result"
   ]
  }
 ],
 "metadata": {
  "kernelspec": {
   "display_name": "Python 3",
   "language": "python",
   "name": "python3"
  },
  "language_info": {
   "codemirror_mode": {
    "name": "ipython",
    "version": 3
   },
   "file_extension": ".py",
   "mimetype": "text/x-python",
   "name": "python",
   "nbconvert_exporter": "python",
   "pygments_lexer": "ipython3",
   "version": "3.6.4"
  }
 },
 "nbformat": 4,
 "nbformat_minor": 2
}
