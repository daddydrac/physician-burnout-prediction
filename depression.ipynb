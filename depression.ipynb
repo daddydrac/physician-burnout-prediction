{
 "cells": [
  {
   "cell_type": "code",
   "execution_count": null,
   "metadata": {},
   "outputs": [],
   "source": [
    "def depression(_idx, _data):\n",
    "\n",
    "    _scope = {\n",
    "        \"depressed\": None\n",
    "       }\n",
    "    \n",
    "     # 1: depressed 16% of a population of 8000=1280\n",
    "    if _idx in range(0, 1280, 1):\n",
    "        _scope[\"depressed\"]= 1\n",
    "    else:\n",
    "        _scope[\"depressed\"]= 0\n",
    "    result = _.assign(_data[_idx], {\"depressed\": _scope[\"depressed\"]})\n",
    "    return result\n"
   ]
  }
 ],
 "metadata": {
  "kernelspec": {
   "display_name": "Python 3",
   "language": "python",
   "name": "python3"
  },
  "language_info": {
   "codemirror_mode": {
    "name": "ipython",
    "version": 3
   },
   "file_extension": ".py",
   "mimetype": "text/x-python",
   "name": "python",
   "nbconvert_exporter": "python",
   "pygments_lexer": "ipython3",
   "version": "3.6.4"
  }
 },
 "nbformat": 4,
 "nbformat_minor": 2
}
