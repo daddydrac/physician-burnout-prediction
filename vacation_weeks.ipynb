{
 "cells": [
  {
   "cell_type": "code",
   "execution_count": null,
   "metadata": {},
   "outputs": [],
   "source": [
    "def vacation_weeks(_idx, _data):\n",
    "\n",
    "    _scope = {\n",
    "        \"vacation_weeks\": None\n",
    "       }\n",
    "     # 1: less than 1 week 6% of a population of 8000=480\n",
    "    if _idx in range(0, 480, 1):\n",
    "        _scope[\"vacation_weeks\"]= 1\n",
    "     # 2: 1-2 week 28% of a population of 8000= 2240 \n",
    "    elif _idx in range(481, 2721, 1):\n",
    "         _scope[\"vacation_weeks\"]= 2\n",
    "    # 3: 3-4 week 43% of a population of 8000= 3440\n",
    "    elif _idx in range(2722, 6162, 1):\n",
    "         _scope[\"vacation_weeks\"]= 3\n",
    "    # 4: 5-6 week 14% of a population of 8000= 1120\n",
    "    elif _idx in range(6163, 7283, 1):\n",
    "         _scope[\"vacation_weeks\"]= 4\n",
    "     # 4: More than 6 weekq 9%of a population of 8000\n",
    "    else:\n",
    "         _scope[\"vacation_weeks\"]= 5\n",
    "    \n",
    "        \n",
    "    result = _.assign(_data[_idx], {\"vacation_weeks\": _scope[\"vacation_weeks\"]})\n",
    "    return result\n"
   ]
  }
 ],
 "metadata": {
  "kernelspec": {
   "display_name": "Python 3",
   "language": "python",
   "name": "python3"
  },
  "language_info": {
   "codemirror_mode": {
    "name": "ipython",
    "version": 3
   },
   "file_extension": ".py",
   "mimetype": "text/x-python",
   "name": "python",
   "nbconvert_exporter": "python",
   "pygments_lexer": "ipython3",
   "version": "3.6.4"
  }
 },
 "nbformat": 4,
 "nbformat_minor": 2
}
