{
 "cells": [
  {
   "cell_type": "code",
   "execution_count": 1,
   "metadata": {},
   "outputs": [],
   "source": [
    "def exercice(_idx, _data):\n",
    "\n",
    "    _scope = {\n",
    "        \"excercie\": None\n",
    "       }\n",
    "    \n",
    "     # 1: no exercice 11% of a population of 8000=880\n",
    "    if _idx in range(0, 880, 1):\n",
    "        _scope[\"exercice\"]= 1\n",
    "     # 2: once a week or less 23% of a population of 8000= 1840\n",
    "    elif _idx in range(481, 2321, 1):\n",
    "         _scope[\"exercice\"]= 2\n",
    "    # 3:  2-3 times a week 35% of a population of 8000= 2800\n",
    "    elif _idx in range(2322, 5122, 1):\n",
    "         _scope[\"exercice\"]= 3\n",
    "    # 4: 4-5 times a week 22% of a population of 8000= 1760\n",
    "    elif _idx in range(5122, 6882, 1):\n",
    "         _scope[\"exercice\"]= 4\n",
    "     # 5: every day 8 %of a population of 8000\n",
    "    else:\n",
    "         _scope[\"exercice\"]= 5\n",
    "    \n",
    "        \n",
    "    result = _.assign(_data[_idx], {\"exercice\": _scope[\"exercice\"]})\n",
    "    return result"
   ]
  },
  {
   "cell_type": "code",
   "execution_count": null,
   "metadata": {},
   "outputs": [],
   "source": []
  }
 ],
 "metadata": {
  "kernelspec": {
   "display_name": "Python 3",
   "language": "python",
   "name": "python3"
  },
  "language_info": {
   "codemirror_mode": {
    "name": "ipython",
    "version": 3
   },
   "file_extension": ".py",
   "mimetype": "text/x-python",
   "name": "python",
   "nbconvert_exporter": "python",
   "pygments_lexer": "ipython3",
   "version": "3.6.4"
  }
 },
 "nbformat": 4,
 "nbformat_minor": 2
}
