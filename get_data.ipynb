{
 "cells": [
  {
   "cell_type": "code",
   "execution_count": null,
   "metadata": {},
   "outputs": [],
   "source": [
    "import random\n",
    "import json\n",
    "import pydash as _\n",
    "from file import make_doctors\n",
    "from random import seed\n",
    "from random import randint\n",
    "\n",
    "\n",
    "doctors = make_doctors()\n",
    "shuffle_1 = random.sample(doctors, len(doctors))\n",
    "shuffle_2 = random.sample(shuffle_1, len(doctors))\n",
    "\n",
    "for i in range(len(shuffle_2)):\n",
    "    specialties(_idx=i, _data=shuffle_2)\n",
    "    geography(_idx=i, _data=shuffle_2)\n",
    "    employment_status(_idx=i, _data=shuffle_2)\n",
    "    hapiness(_idx=i, _data=shuffle_2)\n",
    "    antistress_program(_idx=i, _data=shuffle_2)\n",
    "    depression(_idx=i, _data=shuffle_2)\n",
    "    exercice(_idx=i, _data=shuffle_2)\n",
    "    vacation_weeks(_idx=i, _data=shuffle_2)\n",
    "    work_hours_patient(_idx=i, _data=shuffle_2)\n",
    "    self_esteem(_idx=i, _data=shuffle_2)\n",
    "    create_bool(_idx=i, _data=shuffle_2)\n",
    "print(json.dumps(shuffle_2, indent=3))\n",
    "\n"
   ]
  }
 ],
 "metadata": {
  "kernelspec": {
   "display_name": "Python 3",
   "language": "python",
   "name": "python3"
  },
  "language_info": {
   "codemirror_mode": {
    "name": "ipython",
    "version": 3
   },
   "file_extension": ".py",
   "mimetype": "text/x-python",
   "name": "python",
   "nbconvert_exporter": "python",
   "pygments_lexer": "ipython3",
   "version": "3.6.4"
  }
 },
 "nbformat": 4,
 "nbformat_minor": 2
}
