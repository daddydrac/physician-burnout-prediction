{
 "cells": [
  {
   "cell_type": "code",
   "execution_count": null,
   "metadata": {},
   "outputs": [],
   "source": [
    "def antistress_program(_idx, _data):\n",
    "\n",
    "    _scope = {\n",
    "        \"antistress_program\": None\n",
    "       }\n",
    "    \n",
    "     # 1: Yes : workplace offers a program to reduce stress 30% of a population of 8000=2400\n",
    "    if _idx in range(0, 2400, 1):\n",
    "        _scope[\"antistress_program\"]= 1\n",
    "\n",
    "        \n",
    "    # 2: No : 48% of a population of 8000=3840\n",
    "    if _idx in range(2401, 6241, 1):\n",
    "        _scope[\"antistress_program\"]= 2\n",
    "    # 3: unspecified : 22% of a population of 8000\n",
    "    else:\n",
    "        _scope[\"antistress_program\"]= 3\n",
    "    result = _.assign(_data[_idx], {\"antistress_program\": _scope[\"antistress_program\"]})\n",
    "    return result\n"
   ]
  }
 ],
 "metadata": {
  "kernelspec": {
   "display_name": "Python 3",
   "language": "python",
   "name": "python3"
  },
  "language_info": {
   "codemirror_mode": {
    "name": "ipython",
    "version": 3
   },
   "file_extension": ".py",
   "mimetype": "text/x-python",
   "name": "python",
   "nbconvert_exporter": "python",
   "pygments_lexer": "ipython3",
   "version": "3.6.4"
  }
 },
 "nbformat": 4,
 "nbformat_minor": 2
}
