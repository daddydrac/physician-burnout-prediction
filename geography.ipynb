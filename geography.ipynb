{
 "cells": [
  {
   "cell_type": "code",
   "execution_count": null,
   "metadata": {},
   "outputs": [],
   "source": [
    "def geography(_idx, _data):\n",
    "\n",
    "    _scope = {\n",
    "        \"geography\": None\n",
    "       }\n",
    "\n",
    "    # Urban: 89.0% of a population of 8000=7120 \n",
    "    if _idx in range(0, 7120, 1):\n",
    "        _scope[\"geography\"] = (1, \"Urban\")\n",
    "        \n",
    "    # Large rural:7.1% of a population of 8000=568\n",
    "    elif _idx in range(7121, 7689, 1):\n",
    "         _scope[\"geography\"] = (2, \"Large rural\")\n",
    "    \n",
    "    # small rural:2.6% of a population of 8000=568\n",
    "    elif _idx in range(7690, 7898, 1):\n",
    "         _scope[\"geography\"] = (3, \"Small rural\")\n",
    "            \n",
    "     # Remote rural/frontier:1.3% of a population of 8000=104\n",
    "    else:  \n",
    "        _scope[\"geography\"] = (4, \"rural/frontier\")\n",
    "        \n",
    "        \n",
    "    result = _.assign(_data[_idx], {\"geography\": _scope[\"geography\"]})\n",
    "    return result"
   ]
  }
 ],
 "metadata": {
  "kernelspec": {
   "display_name": "Python 3",
   "language": "python",
   "name": "python3"
  },
  "language_info": {
   "codemirror_mode": {
    "name": "ipython",
    "version": 3
   },
   "file_extension": ".py",
   "mimetype": "text/x-python",
   "name": "python",
   "nbconvert_exporter": "python",
   "pygments_lexer": "ipython3",
   "version": "3.6.4"
  }
 },
 "nbformat": 4,
 "nbformat_minor": 2
}
