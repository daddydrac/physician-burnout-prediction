{
 "cells": [
  {
   "cell_type": "code",
   "execution_count": null,
   "metadata": {},
   "outputs": [],
   "source": [
    "def employment_status(_idx, _data):\n",
    "\n",
    "    _scope = {\n",
    "        \"Employment_status\": None\n",
    "    }\n",
    "\n",
    "    # owner:  45.9% of a population of 8000 =3672\n",
    "    if _idx in range(0, 3672, 1):\n",
    "        _scope[\"employment_status\"] = (1, \"owner\")\n",
    "        \n",
    "    # Employee: 47.4% of a population of 8000=3792\n",
    "    elif _idx in range(3673, 7465, 1):\n",
    "          _scope[\"employment_status\"] = (2, \"employee\")\n",
    "            \n",
    "    else:\n",
    "           _scope[\"employment_status\"] = (3, \"Independent contractor\")\n",
    "\n",
    "    result = _.assign(_data[_idx], {\"employment_status\": _scope[\"employment_status\"]})\n",
    "    return result"
   ]
  }
 ],
 "metadata": {
  "kernelspec": {
   "display_name": "Python 3",
   "language": "python",
   "name": "python3"
  },
  "language_info": {
   "codemirror_mode": {
    "name": "ipython",
    "version": 3
   },
   "file_extension": ".py",
   "mimetype": "text/x-python",
   "name": "python",
   "nbconvert_exporter": "python",
   "pygments_lexer": "ipython3",
   "version": "3.6.4"
  }
 },
 "nbformat": 4,
 "nbformat_minor": 2
}
