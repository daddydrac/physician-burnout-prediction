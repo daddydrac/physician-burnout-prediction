{
 "cells": [
  {
   "cell_type": "code",
   "execution_count": 8,
   "metadata": {},
   "outputs": [],
   "source": [
    "def create_bool(_idx, _data):\n",
    "    _scope = {\n",
    "        \"bureaucratic_tasks\": None,\n",
    "        \"respect_coworkers\": None,\n",
    "        \"respect_patients\": None,\n",
    "        \"Ehrs\": None,\n",
    "        \"autonomy\": None\n",
    "    }\n",
    "# generate random integer values\n",
    "\n",
    "# generate random integer values\n",
    "\n",
    "# seed random number generator\n",
    "    seed(1)\n",
    "# generate some integers\n",
    "    _scope[\"bureaucratic_tasks\"]= randint(0, 1)\n",
    "    _scope[\"respect_coworkers\"]= randint(0, 1)\n",
    "    _scope[\"respect_patients\"]= randint(0, 1)\n",
    "    _scope[\"Ehrs\"]= randint(0, 1)\n",
    "    _scope[\"autonomy\"]= randint(0, 1)\n",
    "    result = _.assign(_data[_idx], {\"bureaucratic_tasks\": _scope[\"bureaucratic_tasks\"], \"respect_coworkers\":_scope[\"respect_coworkers\"],\"respect_patients\":_scope[\"respect_patients\"],\"Ehrs\": _scope[\"Ehrs\"],\"autonomy\":_scope[\"autonomy\"]})\n",
    "    return result"
   ]
  }
 ],
 "metadata": {
  "kernelspec": {
   "display_name": "Python 3",
   "language": "python",
   "name": "python3"
  },
  "language_info": {
   "codemirror_mode": {
    "name": "ipython",
    "version": 3
   },
   "file_extension": ".py",
   "mimetype": "text/x-python",
   "name": "python",
   "nbconvert_exporter": "python",
   "pygments_lexer": "ipython3",
   "version": "3.6.4"
  }
 },
 "nbformat": 4,
 "nbformat_minor": 2
}
