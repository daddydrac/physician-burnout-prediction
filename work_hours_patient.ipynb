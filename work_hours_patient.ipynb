{
 "cells": [
  {
   "cell_type": "code",
   "execution_count": null,
   "metadata": {},
   "outputs": [],
   "source": [
    "def work_hours_patient(_idx, _data):\n",
    "\n",
    "    _scope = {\n",
    "        \"work_hours_patient\": None\n",
    "       }\n",
    "    #hours per week spent on seeing patients by gender\n",
    "    if _data[_idx][\"gender\"] == 0:\n",
    "        _scope[\"work_hours_patient\"]=random.randrange(20, 60, 1)\n",
    "    else:\n",
    "        _scope[\"work_hours_patient\"]=random.randrange(18, 54, 1)\n",
    "        \n",
    "    result = _.assign(_data[_idx], {\"work_hours_patient\": _scope[\"work_hours_patient\"]})\n",
    "    return result"
   ]
  }
 ],
 "metadata": {
  "kernelspec": {
   "display_name": "Python 3",
   "language": "python",
   "name": "python3"
  },
  "language_info": {
   "codemirror_mode": {
    "name": "ipython",
    "version": 3
   },
   "file_extension": ".py",
   "mimetype": "text/x-python",
   "name": "python",
   "nbconvert_exporter": "python",
   "pygments_lexer": "ipython3",
   "version": "3.6.4"
  }
 },
 "nbformat": 4,
 "nbformat_minor": 2
}
